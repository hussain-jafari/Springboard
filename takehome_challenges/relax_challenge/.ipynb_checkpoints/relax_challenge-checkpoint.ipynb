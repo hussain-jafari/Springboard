{
 "cells": [
  {
   "cell_type": "code",
   "execution_count": 192,
   "metadata": {},
   "outputs": [],
   "source": [
    "import pandas as pd\n",
    "import numpy as np\n",
    "import matplotlib.pyplot as plt\n",
    "from datetime import datetime"
   ]
  },
  {
   "cell_type": "code",
   "execution_count": 193,
   "metadata": {},
   "outputs": [],
   "source": [
    "df = pd.read_csv('takehome_user_engagement.csv', parse_dates=['time_stamp'])"
   ]
  },
  {
   "cell_type": "code",
   "execution_count": 194,
   "metadata": {
    "scrolled": true
   },
   "outputs": [],
   "source": [
    "#Truncate time stamps to day using floor\n",
    "df['time_stamp'] = df['time_stamp'].dt.floor('d').astype(np.int64)\n",
    "#Sort by user id and day and drop duplicates \n",
    "df = df.sort_values(['user_id', 'time_stamp']).drop_duplicates()\n",
    "\n",
    "#Get users who logged in on at least 3 days over a week\n",
    "a = df.groupby('user_id')['time_stamp'].rolling(window=3)\n",
    "b = pd.to_timedelta((a.max()- a.min())).dt.days\n",
    "c = b[b == 7].index.get_level_values('user_id').tolist()\n",
    "#Remove duplicate users\n",
    "adopted_users_list = list(set(c))"
   ]
  },
  {
   "cell_type": "code",
   "execution_count": 195,
   "metadata": {},
   "outputs": [
    {
     "data": {
      "text/html": [
       "<div>\n",
       "<style>\n",
       "    .dataframe thead tr:only-child th {\n",
       "        text-align: right;\n",
       "    }\n",
       "\n",
       "    .dataframe thead th {\n",
       "        text-align: left;\n",
       "    }\n",
       "\n",
       "    .dataframe tbody tr th {\n",
       "        vertical-align: top;\n",
       "    }\n",
       "</style>\n",
       "<table border=\"1\" class=\"dataframe\">\n",
       "  <thead>\n",
       "    <tr style=\"text-align: right;\">\n",
       "      <th></th>\n",
       "      <th>object_id</th>\n",
       "      <th>creation_time</th>\n",
       "      <th>name</th>\n",
       "      <th>email</th>\n",
       "      <th>creation_source</th>\n",
       "      <th>last_session_creation_time</th>\n",
       "      <th>opted_in_to_mailing_list</th>\n",
       "      <th>enabled_for_marketing_drip</th>\n",
       "      <th>org_id</th>\n",
       "      <th>invited_by_user_id</th>\n",
       "      <th>adopted_user</th>\n",
       "    </tr>\n",
       "  </thead>\n",
       "  <tbody>\n",
       "    <tr>\n",
       "      <th>0</th>\n",
       "      <td>1</td>\n",
       "      <td>2014-04-22 03:53:30</td>\n",
       "      <td>Clausen August</td>\n",
       "      <td>AugustCClausen@yahoo.com</td>\n",
       "      <td>GUEST_INVITE</td>\n",
       "      <td>1.398139e+09</td>\n",
       "      <td>1</td>\n",
       "      <td>0</td>\n",
       "      <td>11</td>\n",
       "      <td>10803.0</td>\n",
       "      <td>False</td>\n",
       "    </tr>\n",
       "    <tr>\n",
       "      <th>1</th>\n",
       "      <td>2</td>\n",
       "      <td>2013-11-15 03:45:04</td>\n",
       "      <td>Poole Matthew</td>\n",
       "      <td>MatthewPoole@gustr.com</td>\n",
       "      <td>ORG_INVITE</td>\n",
       "      <td>1.396238e+09</td>\n",
       "      <td>0</td>\n",
       "      <td>0</td>\n",
       "      <td>1</td>\n",
       "      <td>316.0</td>\n",
       "      <td>True</td>\n",
       "    </tr>\n",
       "    <tr>\n",
       "      <th>2</th>\n",
       "      <td>3</td>\n",
       "      <td>2013-03-19 23:14:52</td>\n",
       "      <td>Bottrill Mitchell</td>\n",
       "      <td>MitchellBottrill@gustr.com</td>\n",
       "      <td>ORG_INVITE</td>\n",
       "      <td>1.363735e+09</td>\n",
       "      <td>0</td>\n",
       "      <td>0</td>\n",
       "      <td>94</td>\n",
       "      <td>1525.0</td>\n",
       "      <td>False</td>\n",
       "    </tr>\n",
       "    <tr>\n",
       "      <th>3</th>\n",
       "      <td>4</td>\n",
       "      <td>2013-05-21 08:09:28</td>\n",
       "      <td>Clausen Nicklas</td>\n",
       "      <td>NicklasSClausen@yahoo.com</td>\n",
       "      <td>GUEST_INVITE</td>\n",
       "      <td>1.369210e+09</td>\n",
       "      <td>0</td>\n",
       "      <td>0</td>\n",
       "      <td>1</td>\n",
       "      <td>5151.0</td>\n",
       "      <td>False</td>\n",
       "    </tr>\n",
       "    <tr>\n",
       "      <th>4</th>\n",
       "      <td>5</td>\n",
       "      <td>2013-01-17 10:14:20</td>\n",
       "      <td>Raw Grace</td>\n",
       "      <td>GraceRaw@yahoo.com</td>\n",
       "      <td>GUEST_INVITE</td>\n",
       "      <td>1.358850e+09</td>\n",
       "      <td>0</td>\n",
       "      <td>0</td>\n",
       "      <td>193</td>\n",
       "      <td>5240.0</td>\n",
       "      <td>False</td>\n",
       "    </tr>\n",
       "    <tr>\n",
       "      <th>5</th>\n",
       "      <td>6</td>\n",
       "      <td>2013-12-17 03:37:06</td>\n",
       "      <td>Cunha Eduardo</td>\n",
       "      <td>EduardoPereiraCunha@yahoo.com</td>\n",
       "      <td>GUEST_INVITE</td>\n",
       "      <td>1.387424e+09</td>\n",
       "      <td>0</td>\n",
       "      <td>0</td>\n",
       "      <td>197</td>\n",
       "      <td>11241.0</td>\n",
       "      <td>False</td>\n",
       "    </tr>\n",
       "    <tr>\n",
       "      <th>6</th>\n",
       "      <td>7</td>\n",
       "      <td>2012-12-16 13:24:32</td>\n",
       "      <td>Sewell Tyler</td>\n",
       "      <td>TylerSewell@jourrapide.com</td>\n",
       "      <td>SIGNUP</td>\n",
       "      <td>1.356010e+09</td>\n",
       "      <td>0</td>\n",
       "      <td>1</td>\n",
       "      <td>37</td>\n",
       "      <td>NaN</td>\n",
       "      <td>False</td>\n",
       "    </tr>\n",
       "    <tr>\n",
       "      <th>7</th>\n",
       "      <td>8</td>\n",
       "      <td>2013-07-31 05:34:02</td>\n",
       "      <td>Hamilton Danielle</td>\n",
       "      <td>DanielleHamilton@yahoo.com</td>\n",
       "      <td>PERSONAL_PROJECTS</td>\n",
       "      <td>NaN</td>\n",
       "      <td>1</td>\n",
       "      <td>1</td>\n",
       "      <td>74</td>\n",
       "      <td>NaN</td>\n",
       "      <td>False</td>\n",
       "    </tr>\n",
       "    <tr>\n",
       "      <th>8</th>\n",
       "      <td>9</td>\n",
       "      <td>2013-11-05 04:04:24</td>\n",
       "      <td>Amsel Paul</td>\n",
       "      <td>PaulAmsel@hotmail.com</td>\n",
       "      <td>PERSONAL_PROJECTS</td>\n",
       "      <td>NaN</td>\n",
       "      <td>0</td>\n",
       "      <td>0</td>\n",
       "      <td>302</td>\n",
       "      <td>NaN</td>\n",
       "      <td>False</td>\n",
       "    </tr>\n",
       "    <tr>\n",
       "      <th>9</th>\n",
       "      <td>10</td>\n",
       "      <td>2013-01-16 22:08:03</td>\n",
       "      <td>Santos Carla</td>\n",
       "      <td>CarlaFerreiraSantos@gustr.com</td>\n",
       "      <td>ORG_INVITE</td>\n",
       "      <td>1.401833e+09</td>\n",
       "      <td>1</td>\n",
       "      <td>1</td>\n",
       "      <td>318</td>\n",
       "      <td>4143.0</td>\n",
       "      <td>True</td>\n",
       "    </tr>\n",
       "  </tbody>\n",
       "</table>\n",
       "</div>"
      ],
      "text/plain": [
       "   object_id        creation_time               name  \\\n",
       "0          1  2014-04-22 03:53:30     Clausen August   \n",
       "1          2  2013-11-15 03:45:04      Poole Matthew   \n",
       "2          3  2013-03-19 23:14:52  Bottrill Mitchell   \n",
       "3          4  2013-05-21 08:09:28    Clausen Nicklas   \n",
       "4          5  2013-01-17 10:14:20          Raw Grace   \n",
       "5          6  2013-12-17 03:37:06      Cunha Eduardo   \n",
       "6          7  2012-12-16 13:24:32       Sewell Tyler   \n",
       "7          8  2013-07-31 05:34:02  Hamilton Danielle   \n",
       "8          9  2013-11-05 04:04:24         Amsel Paul   \n",
       "9         10  2013-01-16 22:08:03       Santos Carla   \n",
       "\n",
       "                           email    creation_source  \\\n",
       "0       AugustCClausen@yahoo.com       GUEST_INVITE   \n",
       "1         MatthewPoole@gustr.com         ORG_INVITE   \n",
       "2     MitchellBottrill@gustr.com         ORG_INVITE   \n",
       "3      NicklasSClausen@yahoo.com       GUEST_INVITE   \n",
       "4             GraceRaw@yahoo.com       GUEST_INVITE   \n",
       "5  EduardoPereiraCunha@yahoo.com       GUEST_INVITE   \n",
       "6     TylerSewell@jourrapide.com             SIGNUP   \n",
       "7     DanielleHamilton@yahoo.com  PERSONAL_PROJECTS   \n",
       "8          PaulAmsel@hotmail.com  PERSONAL_PROJECTS   \n",
       "9  CarlaFerreiraSantos@gustr.com         ORG_INVITE   \n",
       "\n",
       "   last_session_creation_time  opted_in_to_mailing_list  \\\n",
       "0                1.398139e+09                         1   \n",
       "1                1.396238e+09                         0   \n",
       "2                1.363735e+09                         0   \n",
       "3                1.369210e+09                         0   \n",
       "4                1.358850e+09                         0   \n",
       "5                1.387424e+09                         0   \n",
       "6                1.356010e+09                         0   \n",
       "7                         NaN                         1   \n",
       "8                         NaN                         0   \n",
       "9                1.401833e+09                         1   \n",
       "\n",
       "   enabled_for_marketing_drip  org_id  invited_by_user_id  adopted_user  \n",
       "0                           0      11             10803.0         False  \n",
       "1                           0       1               316.0          True  \n",
       "2                           0      94              1525.0         False  \n",
       "3                           0       1              5151.0         False  \n",
       "4                           0     193              5240.0         False  \n",
       "5                           0     197             11241.0         False  \n",
       "6                           1      37                 NaN         False  \n",
       "7                           1      74                 NaN         False  \n",
       "8                           0     302                 NaN         False  \n",
       "9                           1     318              4143.0          True  "
      ]
     },
     "execution_count": 195,
     "metadata": {},
     "output_type": "execute_result"
    }
   ],
   "source": [
    "df = pd.read_csv('takehome_users.csv', encoding = \"ISO-8859-1\")\n",
    "#Create column for whether user is an adopted user\n",
    "df['adopted_user'] = df.object_id.isin(adopted_users_list)\n",
    "df.head(10)"
   ]
  },
  {
   "cell_type": "code",
   "execution_count": 196,
   "metadata": {},
   "outputs": [
    {
     "data": {
      "text/plain": [
       "object_id                        0\n",
       "creation_time                    0\n",
       "name                             0\n",
       "email                            0\n",
       "creation_source                  0\n",
       "last_session_creation_time    3177\n",
       "opted_in_to_mailing_list         0\n",
       "enabled_for_marketing_drip       0\n",
       "org_id                           0\n",
       "invited_by_user_id            5583\n",
       "adopted_user                     0\n",
       "dtype: int64"
      ]
     },
     "execution_count": 196,
     "metadata": {},
     "output_type": "execute_result"
    }
   ],
   "source": [
    "#Check for null values\n",
    "df.isnull().sum()"
   ]
  },
  {
   "cell_type": "code",
   "execution_count": 197,
   "metadata": {},
   "outputs": [],
   "source": [
    "#Fill in 0 for users who weren't invited\n",
    "df['invited_by_user_id'].fillna(0, inplace=True)\n",
    "\n",
    "#Replace null values with earliest session login time\n",
    "df['last_session_creation_time'].fillna(min(df['last_session_creation_time']), inplace=True)"
   ]
  },
  {
   "cell_type": "code",
   "execution_count": 198,
   "metadata": {
    "collapsed": true
   },
   "outputs": [],
   "source": [
    "def categorical_bar_graph(df, column_name):\n",
    "    \n",
    "    cross_tab = pd.crosstab(df[column_name], df['adopted_user'])\n",
    "\n",
    "    num_categories = len(cross_tab.index)\n",
    "    x_vals = np.arange(num_categories) + 1\n",
    "    x_labels = cross_tab.index.values\n",
    "\n",
    "    y_vals = np.empty(num_categories)\n",
    "    for i in range(num_categories):\n",
    "        y_vals[i] = cross_tab.iloc[i,1] / np.sum(cross_tab.iloc[i,0:2])\n",
    "        \n",
    "    return x_labels, x_vals, y_vals"
   ]
  },
  {
   "cell_type": "code",
   "execution_count": 199,
   "metadata": {},
   "outputs": [
    {
     "data": {
      "image/png": "[encoded data removed]",
      "text/plain": [
       "<matplotlib.figure.Figure at 0x7fb5722c7240>"
      ]
     },
     "metadata": {},
     "output_type": "display_data"
    }
   ],
   "source": [
    "#Create bar graph for creation sources\n",
    "x_labels, x, y = categorical_bar_graph(df, 'creation_source')\n",
    "\n",
    "plt.bar(x, y)\n",
    "plt.title('% Adopted Users by Creation Source')\n",
    "plt.xlabel('Creation Source')\n",
    "plt.ylabel('% Adopted User Within Category')\n",
    "plt.xticks(x_vals, x_labels, rotation=45)\n",
    "plt.show()"
   ]
  },
  {
   "cell_type": "code",
   "execution_count": 200,
   "metadata": {},
   "outputs": [
    {
     "data": {
      "image/png": "[encoded data removed]",
      "text/plain": [
       "<matplotlib.figure.Figure at 0x7fb572378e10>"
      ]
     },
     "metadata": {},
     "output_type": "display_data"
    }
   ],
   "source": [
    "#Create bar graph for whether a user opted into mailing list\n",
    "_, x, y = categorical_bar_graph(df, 'opted_in_to_mailing_list')\n",
    "\n",
    "plt.bar(x, y)\n",
    "plt.title('% Adopted Users by Whether They Opted Into Receive Marketing E-mails')\n",
    "plt.xlabel('Opted Into Receiving Marketing E-mails')\n",
    "plt.ylabel('% Adopted User Within Category')\n",
    "plt.xticks(x, [False, True])\n",
    "plt.show()"
   ]
  },
  {
   "cell_type": "code",
   "execution_count": 201,
   "metadata": {},
   "outputs": [
    {
     "data": {
      "image/png": "[encoded data removed]",
      "text/plain": [
       "<matplotlib.figure.Figure at 0x7fb5723e6ba8>"
      ]
     },
     "metadata": {},
     "output_type": "display_data"
    }
   ],
   "source": [
    "#Create bar graph for whether user is on regular marketing email drip\n",
    "_, x, y = categorical_bar_graph(df, 'enabled_for_marketing_drip')\n",
    "\n",
    "plt.bar(x, y)\n",
    "plt.title('% Adopted Users by Whether They Are on Regular Marketing Drip')\n",
    "plt.xlabel('On Regular Marketing Drip')\n",
    "plt.ylabel('% Adopted User Within Category')\n",
    "plt.xticks(x, [False, True])\n",
    "plt.show()"
   ]
  },
  {
   "cell_type": "code",
   "execution_count": 202,
   "metadata": {},
   "outputs": [],
   "source": [
    "#Transform creation time to days since first creation day\n",
    "df['creation_time'] = pd.to_datetime(df['creation_time'])\n",
    "df['creation_time_delta'] = (df['creation_time'] - df['creation_time'].min())  / np.timedelta64(1,'D')"
   ]
  },
  {
   "cell_type": "code",
   "execution_count": 204,
   "metadata": {},
   "outputs": [],
   "source": [
    "log_columns = ['creation_time_delta', 'last_session_creation_time', 'opted_in_to_mailing_list', \n",
    "               'enabled_for_marketing_drip']\n",
    "\n",
    "dfx = df.loc[:, log_columns]\n",
    "\n",
    "dummy_creation_source = pd.get_dummies(df['creation_source'], drop_first=True)\n",
    "dfx = pd.concat([dfx, dummy_creation_source], axis=1)"
   ]
  },
  {
   "cell_type": "code",
   "execution_count": 205,
   "metadata": {},
   "outputs": [
    {
     "name": "stdout",
     "output_type": "stream",
     "text": [
      "Optimization terminated successfully.\n",
      "         Current function value: 0.346145\n",
      "         Iterations 7\n"
     ]
    },
    {
     "data": {
      "text/html": [
       "<table class=\"simpletable\">\n",
       "<caption>Logit Regression Results</caption>\n",
       "<tr>\n",
       "  <th>Dep. Variable:</th>   <td>adopted_user</td>   <th>  No. Observations:  </th>  <td> 12000</td>  \n",
       "</tr>\n",
       "<tr>\n",
       "  <th>Model:</th>               <td>Logit</td>      <th>  Df Residuals:      </th>  <td> 11992</td>  \n",
       "</tr>\n",
       "<tr>\n",
       "  <th>Method:</th>               <td>MLE</td>       <th>  Df Model:          </th>  <td>     7</td>  \n",
       "</tr>\n",
       "<tr>\n",
       "  <th>Date:</th>          <td>Fri, 12 Oct 2018</td> <th>  Pseudo R-squ.:     </th>  <td>0.01965</td> \n",
       "</tr>\n",
       "<tr>\n",
       "  <th>Time:</th>              <td>19:00:34</td>     <th>  Log-Likelihood:    </th> <td> -4153.7</td> \n",
       "</tr>\n",
       "<tr>\n",
       "  <th>converged:</th>           <td>True</td>       <th>  LL-Null:           </th> <td> -4237.0</td> \n",
       "</tr>\n",
       "<tr>\n",
       "  <th> </th>                      <td> </td>        <th>  LLR p-value:       </th> <td>1.335e-32</td>\n",
       "</tr>\n",
       "</table>\n",
       "<table class=\"simpletable\">\n",
       "<tr>\n",
       "               <td></td>                 <th>coef</th>     <th>std err</th>      <th>z</th>      <th>P>|z|</th>  <th>[0.025</th>    <th>0.975]</th>  \n",
       "</tr>\n",
       "<tr>\n",
       "  <th>creation_time_delta</th>        <td>   -0.0018</td> <td>    0.000</td> <td>  -13.242</td> <td> 0.000</td> <td>   -0.002</td> <td>   -0.002</td>\n",
       "</tr>\n",
       "<tr>\n",
       "  <th>last_session_creation_time</th> <td>-7.558e-10</td> <td> 5.76e-11</td> <td>  -13.127</td> <td> 0.000</td> <td>-8.69e-10</td> <td>-6.43e-10</td>\n",
       "</tr>\n",
       "<tr>\n",
       "  <th>opted_in_to_mailing_list</th>   <td>    0.0358</td> <td>    0.076</td> <td>    0.473</td> <td> 0.636</td> <td>   -0.112</td> <td>    0.184</td>\n",
       "</tr>\n",
       "<tr>\n",
       "  <th>enabled_for_marketing_drip</th> <td>    0.0052</td> <td>    0.092</td> <td>    0.056</td> <td> 0.955</td> <td>   -0.175</td> <td>    0.186</td>\n",
       "</tr>\n",
       "<tr>\n",
       "  <th>ORG_INVITE</th>                 <td>   -0.3751</td> <td>    0.078</td> <td>   -4.832</td> <td> 0.000</td> <td>   -0.527</td> <td>   -0.223</td>\n",
       "</tr>\n",
       "<tr>\n",
       "  <th>PERSONAL_PROJECTS</th>          <td>   -1.0074</td> <td>    0.107</td> <td>   -9.429</td> <td> 0.000</td> <td>   -1.217</td> <td>   -0.798</td>\n",
       "</tr>\n",
       "<tr>\n",
       "  <th>SIGNUP</th>                     <td>   -0.2743</td> <td>    0.091</td> <td>   -3.020</td> <td> 0.003</td> <td>   -0.452</td> <td>   -0.096</td>\n",
       "</tr>\n",
       "<tr>\n",
       "  <th>SIGNUP_GOOGLE_AUTH</th>         <td>   -0.0865</td> <td>    0.099</td> <td>   -0.877</td> <td> 0.380</td> <td>   -0.280</td> <td>    0.107</td>\n",
       "</tr>\n",
       "</table>"
      ],
      "text/plain": [
       "<class 'statsmodels.iolib.summary.Summary'>\n",
       "\"\"\"\n",
       "                           Logit Regression Results                           \n",
       "==============================================================================\n",
       "Dep. Variable:           adopted_user   No. Observations:                12000\n",
       "Model:                          Logit   Df Residuals:                    11992\n",
       "Method:                           MLE   Df Model:                            7\n",
       "Date:                Fri, 12 Oct 2018   Pseudo R-squ.:                 0.01965\n",
       "Time:                        19:00:34   Log-Likelihood:                -4153.7\n",
       "converged:                       True   LL-Null:                       -4237.0\n",
       "                                        LLR p-value:                 1.335e-32\n",
       "==============================================================================================\n",
       "                                 coef    std err          z      P>|z|      [0.025      0.975]\n",
       "----------------------------------------------------------------------------------------------\n",
       "creation_time_delta           -0.0018      0.000    -13.242      0.000      -0.002      -0.002\n",
       "last_session_creation_time -7.558e-10   5.76e-11    -13.127      0.000   -8.69e-10   -6.43e-10\n",
       "opted_in_to_mailing_list       0.0358      0.076      0.473      0.636      -0.112       0.184\n",
       "enabled_for_marketing_drip     0.0052      0.092      0.056      0.955      -0.175       0.186\n",
       "ORG_INVITE                    -0.3751      0.078     -4.832      0.000      -0.527      -0.223\n",
       "PERSONAL_PROJECTS             -1.0074      0.107     -9.429      0.000      -1.217      -0.798\n",
       "SIGNUP                        -0.2743      0.091     -3.020      0.003      -0.452      -0.096\n",
       "SIGNUP_GOOGLE_AUTH            -0.0865      0.099     -0.877      0.380      -0.280       0.107\n",
       "==============================================================================================\n",
       "\"\"\""
      ]
     },
     "execution_count": 205,
     "metadata": {},
     "output_type": "execute_result"
    }
   ],
   "source": [
    "import statsmodels.formula.api as sm\n",
    "\n",
    "X = dfx.astype(float)\n",
    "y = df.adopted_user\n",
    "\n",
    "model = sm.Logit(y, X)\n",
    "result = model.fit()\n",
    "result.summary()"
   ]
  },
  {
   "cell_type": "markdown",
   "metadata": {},
   "source": [
    "I created some bar graphs to see how some of our categorical variables affected the percentage of people within those categories who were considered adopted users. What I found was that some of the categories of creation source, particularly if the user was invited to join another user's workspace, were associated with differences in percentage of adopted users. In contrast, whether users opted into receiving marketing e-mails or whether they were on the regular marketing e-mail drip seemed to have no effect on user adoption. This was also confirmed by running a logistic regression model. The coefficient with the largest magnitude was the dummy variable corresponding to whether a user joined because they were invited to another user's workspace. The p-values for the boolean variables mentioned above were also extremely large, further supporting the idea that these variables have on bearing on user adoption. While creation time did have some effect on predicting our output variable, based on its low p-value, it also has a fairly small coefficient, which suggest that its effect might not be very significant. "
   ]
  },
  {
   "cell_type": "code",
   "execution_count": null,
   "metadata": {
    "collapsed": true
   },
   "outputs": [],
   "source": []
  }
 ],
 "metadata": {
  "kernelspec": {
   "display_name": "Python 3",
   "language": "python",
   "name": "python3"
  },
  "language_info": {
   "codemirror_mode": {
    "name": "ipython",
    "version": 3
   },
   "file_extension": ".py",
   "mimetype": "text/x-python",
   "name": "python",
   "nbconvert_exporter": "python",
   "pygments_lexer": "ipython3",
   "version": "3.6.3"
  }
 },
 "nbformat": 4,
 "nbformat_minor": 2
}
