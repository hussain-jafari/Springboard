{
 "cells": [
  {
   "cell_type": "markdown",
   "metadata": {},
   "source": [
    "# Examining Racial Discrimination in the US Job Market\n",
    "\n",
    "### Background\n",
    "Racial discrimination continues to be pervasive in cultures throughout the world. Researchers examined the level of racial discrimination in the United States labor market by randomly assigning identical résumés to black-sounding or white-sounding names and observing the impact on requests for interviews from employers.\n",
    "\n",
    "### Data\n",
    "In the dataset provided, each row represents a resume. The 'race' column has two values, 'b' and 'w', indicating black-sounding and white-sounding. The column 'call' has two values, 1 and 0, indicating whether the resume received a call from employers or not.\n",
    "\n",
    "Note that the 'b' and 'w' values in race are assigned randomly to the resumes when presented to the employer."
   ]
  },
  {
   "cell_type": "markdown",
   "metadata": {},
   "source": [
    "<div class=\"span5 alert alert-info\">\n",
    "### Exercises\n",
    "You will perform a statistical analysis to establish whether race has a significant impact on the rate of callbacks for resumes.\n",
    "\n",
    "Answer the following questions **in this notebook below and submit to your Github account**. \n",
    "\n",
    "   1. What test is appropriate for this problem? Does CLT apply?\n",
    "   2. What are the null and alternate hypotheses?\n",
    "   3. Compute margin of error, confidence interval, and p-value. Try using both the bootstrapping and the frequentist statistical approaches.\n",
    "   4. Write a story describing the statistical significance in the context or the original problem.\n",
    "   5. Does your analysis mean that race/name is the most important factor in callback success? Why or why not? If not, how would you amend your analysis?\n",
    "\n",
    "You can include written notes in notebook cells using Markdown: \n",
    "   - In the control panel at the top, choose Cell > Cell Type > Markdown\n",
    "   - Markdown syntax: http://nestacms.com/docs/creating-content/markdown-cheat-sheet\n",
    "\n",
    "\n",
    "#### Resources\n",
    "+ Experiment information and data source: http://www.povertyactionlab.org/evaluation/discrimination-job-market-united-states\n",
    "+ Scipy statistical methods: http://docs.scipy.org/doc/scipy/reference/stats.html \n",
    "+ Markdown syntax: http://nestacms.com/docs/creating-content/markdown-cheat-sheet\n",
    "+ Formulas for the Bernoulli distribution: https://en.wikipedia.org/wiki/Bernoulli_distribution\n",
    "</div>\n",
    "****"
   ]
  },
  {
   "cell_type": "code",
   "execution_count": 16,
   "metadata": {
    "collapsed": true
   },
   "outputs": [],
   "source": [
    "import pandas as pd\n",
    "import numpy as np\n",
    "import matplotlib.pyplot as plt\n",
    "from scipy import stats\n",
    "from statsmodels.stats.proportion import proportions_ztest"
   ]
  },
  {
   "cell_type": "code",
   "execution_count": 4,
   "metadata": {
    "collapsed": true
   },
   "outputs": [],
   "source": [
    "data = pd.io.stata.read_stata('data/us_job_market_discrimination.dta')"
   ]
  },
  {
   "cell_type": "markdown",
   "metadata": {
    "collapsed": true
   },
   "source": [
    "We would like to use a proportions z-test to see whether black-sounding and white-sounding groups differ in their callback rate. The Central Limit Theorem does not apply. The null hypothesis is that the proportions of callback rates are equal for the two races, while the alternative hypothesis is that there is a difference in the proportions of callback rates between the two races. "
   ]
  },
  {
   "cell_type": "code",
   "execution_count": 29,
   "metadata": {},
   "outputs": [
    {
     "name": "stdout",
     "output_type": "stream",
     "text": [
      "bootstrap confidence interval: [-0.01520534  0.01560575]\n",
      "bootstrap p-value: 0.0\n",
      "z test statistic: 4.108, p-value: 0.000\n"
     ]
    }
   ],
   "source": [
    "#Separate data into white and black groups\n",
    "w = data[data.race=='w']\n",
    "b = data[data.race=='b']\n",
    "\n",
    "#Calculate proportions of callback rates for both groups and calculate difference\n",
    "w_prop = np.sum(w.call == 1) / len(w)\n",
    "b_prop = np.sum(b.call == 1) / len(b)\n",
    "emp_diff_prop = w_prop - b_prop\n",
    "\n",
    "#Generate 1000 bootstrap samples\n",
    "diff_prop=np.empty(1000)\n",
    "\n",
    "for i in range(1000):\n",
    "    #Create two samples after bootstrapping and take difference in proportions of callback rates\n",
    "    bs_sample = np.random.choice(data['call'], size=len(data['call']))\n",
    "    sample_1 = bs_sample[:len(w)]\n",
    "    sample_2 = bs_sample[len(w):]\n",
    "    prop_1 = np.sum(sample_1 == 1) / len(sample_1)\n",
    "    prop_2 = np.sum(sample_2 == 1) / len(sample_2)\n",
    "    diff_prop[i] = prop_1 - prop_2\n",
    "\n",
    "#Calculate confidence intervals and p-values for proportion difference\n",
    "conf_int = np.percentile(diff_prop, [2.5, 97.5])\n",
    "p = np.sum(diff_prop >= emp_diff_prop) / len(diff_prop)\n",
    "print(\"bootstrap confidence interval:\", conf_int)\n",
    "print(\"bootstrap p-value:\", p)\n",
    "\n",
    "#Run proportions z-test on black and white groups\n",
    "stat, p = proportions_ztest([np.sum(w.call == 1), np.sum(b.call == 1)], [len(w), len(b)])\n",
    "print(\"z test statistic: %.3f, p-value: %.3f\" %(stat, p))"
   ]
  },
  {
   "cell_type": "markdown",
   "metadata": {},
   "source": [
    "The fact that we got a p-value of 0 for both our boostrap and frequentist approaches highly suggests that we can reject our null hypothesis that there is no difference in callback rates between whites and blacks. \n",
    "However, this does not suggest that race is THE single most important factor in callback success. It is important, but this might be because it is correlated with other variables that are more closely related to callback rates, or there might be other variables which are still more important. To account for these possibilities, we could run tests that would look at the strength of the relationships between other variables and callback rates, as well as the strength of the relationships between the variables themselves. "
   ]
  },
  {
   "cell_type": "code",
   "execution_count": null,
   "metadata": {
    "collapsed": true
   },
   "outputs": [],
   "source": []
  }
 ],
 "metadata": {
  "kernelspec": {
   "display_name": "Python 3",
   "language": "python",
   "name": "python3"
  },
  "language_info": {
   "codemirror_mode": {
    "name": "ipython",
    "version": 3
   },
   "file_extension": ".py",
   "mimetype": "text/x-python",
   "name": "python",
   "nbconvert_exporter": "python",
   "pygments_lexer": "ipython3",
   "version": "3.6.3"
  }
 },
 "nbformat": 4,
 "nbformat_minor": 1
}
