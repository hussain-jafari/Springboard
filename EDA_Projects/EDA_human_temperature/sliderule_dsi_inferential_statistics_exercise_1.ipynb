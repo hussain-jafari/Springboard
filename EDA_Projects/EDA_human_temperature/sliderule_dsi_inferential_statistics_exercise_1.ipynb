{
 "cells": [
  {
   "cell_type": "markdown",
   "metadata": {},
   "source": [
    "# What is the True Normal Human Body Temperature? \n",
    "\n",
    "#### Background\n",
    "\n",
    "The mean normal body temperature was held to be 37$^{\\circ}$C or 98.6$^{\\circ}$F for more than 120 years since it was first conceptualized and reported by Carl Wunderlich in a famous 1868 book. But, is this value statistically correct?"
   ]
  },
  {
   "cell_type": "markdown",
   "metadata": {},
   "source": [
    "<h3>Exercises</h3>\n",
    "\n",
    "<p>In this exercise, you will analyze a dataset of human body temperatures and employ the concepts of hypothesis testing, confidence intervals, and statistical significance.</p>\n",
    "\n",
    "<p>Answer the following questions <b>in this notebook below and submit to your Github account</b>.</p> \n",
    "\n",
    "<ol>\n",
    "<li>  Is the distribution of body temperatures normal? \n",
    "    <ul>\n",
    "    <li> Although this is not a requirement for the Central Limit Theorem to hold (read the introduction on Wikipedia's page about the CLT carefully: https://en.wikipedia.org/wiki/Central_limit_theorem), it gives us some peace of mind that the population may also be normally distributed if we assume that this sample is representative of the population.\n",
    "    <li> Think about the way you're going to check for the normality of the distribution. Graphical methods are usually used first, but there are also other ways: https://en.wikipedia.org/wiki/Normality_test\n",
    "    </ul>\n",
    "<li>  Is the sample size large? Are the observations independent?\n",
    "    <ul>\n",
    "    <li> Remember that this is a condition for the Central Limit Theorem, and hence the statistical tests we are using, to apply.\n",
    "    </ul>\n",
    "<li>  Is the true population mean really 98.6 degrees F?\n",
    "    <ul>\n",
    "    <li> First, try a bootstrap hypothesis test.\n",
    "    <li> Now, let's try frequentist statistical testing. Would you use a one-sample or two-sample test? Why?\n",
    "    <li> In this situation, is it appropriate to use the $t$ or $z$ statistic? \n",
    "    <li> Now try using the other test. How is the result be different? Why?\n",
    "    </ul>\n",
    "<li>  Draw a small sample of size 10 from the data and repeat both frequentist tests. \n",
    "    <ul>\n",
    "    <li> Which one is the correct one to use? \n",
    "    <li> What do you notice? What does this tell you about the difference in application of the $t$ and $z$ statistic?\n",
    "    </ul>\n",
    "<li>  At what temperature should we consider someone's temperature to be \"abnormal\"?\n",
    "    <ul>\n",
    "    <li> As in the previous example, try calculating everything using the boostrap approach, as well as the frequentist approach.\n",
    "    <li> Start by computing the margin of error and confidence interval. When calculating the confidence interval, keep in mind that you should use the appropriate formula for one draw, and not N draws.\n",
    "    </ul>\n",
    "<li>  Is there a significant difference between males and females in normal temperature?\n",
    "    <ul>\n",
    "    <li> What testing approach did you use and why?\n",
    "    <li> Write a story with your conclusion in the context of the original problem.\n",
    "    </ul>\n",
    "</ol>\n",
    "\n",
    "You can include written notes in notebook cells using Markdown: \n",
    "   - In the control panel at the top, choose Cell > Cell Type > Markdown\n",
    "   - Markdown syntax: http://nestacms.com/docs/creating-content/markdown-cheat-sheet\n",
    "\n",
    "#### Resources\n",
    "\n",
    "+ Information and data sources: http://www.amstat.org/publications/jse/datasets/normtemp.txt, http://www.amstat.org/publications/jse/jse_data_archive.htm\n",
    "+ Markdown syntax: http://nestacms.com/docs/creating-content/markdown-cheat-sheet\n",
    "\n",
    "****"
   ]
  },
  {
   "cell_type": "code",
   "execution_count": 1,
   "metadata": {
    "collapsed": true
   },
   "outputs": [],
   "source": [
    "import pandas as pd\n",
    "import numpy as np\n",
    "import matplotlib.pyplot as plt\n",
    "import seaborn as sns\n",
    "from statsmodels.graphics.gofplots import qqplot\n",
    "from scipy.stats import shapiro, ttest_1samp, ttest_ind\n",
    "from scipy.stats import norm, sem\n",
    "from statsmodels.stats.weightstats import ztest\n",
    "\n",
    "df = pd.read_csv('data/human_body_temperature.csv')"
   ]
  },
  {
   "cell_type": "code",
   "execution_count": 2,
   "metadata": {},
   "outputs": [
    {
     "data": {
      "image/png": "[encoded data removed]",
      "text/plain": [
       "<matplotlib.figure.Figure at 0x7febc019a1d0>"
      ]
     },
     "metadata": {},
     "output_type": "display_data"
    }
   ],
   "source": [
    "#Create a histogram of temperatures\n",
    "temps = df['temperature']\n",
    "_ = plt.hist(temps)\n",
    "plt.show()"
   ]
  },
  {
   "cell_type": "code",
   "execution_count": 3,
   "metadata": {},
   "outputs": [
    {
     "data": {
      "image/png": "[encoded data removed]",
      "text/plain": [
       "<matplotlib.figure.Figure at 0x7feb8cdf4128>"
      ]
     },
     "metadata": {},
     "output_type": "display_data"
    }
   ],
   "source": [
    "#Create a QQ-plot for temperatures\n",
    "_ = qqplot(temps, line='s')\n",
    "plt.show()"
   ]
  },
  {
   "cell_type": "markdown",
   "metadata": {},
   "source": [
    "The histogram looks approximately normally distributed and the points on our QQ-plot roughly lie on a straight diagonal line, so visually we can be fairly confident that our data is normally distributed."
   ]
  },
  {
   "cell_type": "code",
   "execution_count": 4,
   "metadata": {},
   "outputs": [
    {
     "name": "stdout",
     "output_type": "stream",
     "text": [
      "test statistic: 0.987, p-value: 0.233\n"
     ]
    }
   ],
   "source": [
    "#Run a Shapiro-Wilk test on temperature data to test for normality\n",
    "stat, p = shapiro(temps)\n",
    "print(\"test statistic: %.3f, p-value: %.3f\" % (stat, p))"
   ]
  },
  {
   "cell_type": "markdown",
   "metadata": {},
   "source": [
    "The high p-value from running the Shapiro-Wilk test tells us we cannot reject the null hypothesis test that our values are normally distributed, which supports our graphical inspections. \n",
    "\n",
    "We have a large enough sample size (generally said to be greater than 30) with independent samples (the temperatures of one subject are not dependent on the temperature of any other subject) that the Central Limit Theorem applies. "
   ]
  },
  {
   "cell_type": "code",
   "execution_count": 6,
   "metadata": {},
   "outputs": [
    {
     "data": {
      "image/png": "[encoded data removed]",
      "text/plain": [
       "<matplotlib.figure.Figure at 0x7feb8cd88ef0>"
      ]
     },
     "metadata": {},
     "output_type": "display_data"
    },
    {
     "name": "stdout",
     "output_type": "stream",
     "text": [
      "p-value: 0.00000\n"
     ]
    }
   ],
   "source": [
    "#Boostrap hypothesis test for one sample mean\n",
    "theor_mean = 98.6\n",
    "sample_mean = np.mean(temps)\n",
    "diff_of_means = sample_mean - theor_mean\n",
    "\n",
    "#Create new temperature data that fulfills the null hypothesis \n",
    "newtemps = temps - sample_mean + theor_mean\n",
    "#Generate 1000 boostramp samples and take difference of mean and theoretical mean for each\n",
    "bs_replicates = np.empty(1000)\n",
    "for i in range(1000):\n",
    "    bs_sample = np.random.choice(newtemps, size=len(newtemps))\n",
    "    bs_replicates[i] = np.mean(bs_sample) - theor_mean\n",
    "#Plot histogram of our theoretical difference and difference of means \n",
    "_ = plt.hist(bs_replicates)\n",
    "_  =plt.axvline(x=diff_of_means)\n",
    "plt.show()\n",
    "#Calculate p-value on difference of means\n",
    "p = np.sum(bs_replicates <= diff_of_means) / len(bs_replicates)\n",
    "print(\"p-value: %.5f\" % (p))"
   ]
  },
  {
   "cell_type": "markdown",
   "metadata": {},
   "source": [
    "A bootstrap hypothesis test gives us a low enough p-value that we reject the null hypothesis that the true population mean is 98.6 degrees."
   ]
  },
  {
   "cell_type": "code",
   "execution_count": 7,
   "metadata": {},
   "outputs": [
    {
     "name": "stdout",
     "output_type": "stream",
     "text": [
      "t statistic: -5.455, p-value: 0.000\n",
      "z statistic: -5.455, p-value: 0.000\n"
     ]
    }
   ],
   "source": [
    "#Run t-test and z-test on our sample mean equaling our theoretical mean\n",
    "stat, p = ttest_1samp(temps, theor_mean)\n",
    "print(\"t statistic: %.3f, p-value: %.3f\" % (stat, p))\n",
    "stat, p = ztest(temps, value=theor_mean)\n",
    "print(\"z statistic: %.3f, p-value: %.3f\" % (stat, p))"
   ]
  },
  {
   "cell_type": "markdown",
   "metadata": {},
   "source": [
    "We would like to use a one sample test for our frequentist statistical testing since we only have one sample which we are comparing to a theoretical mean. We get the same output for both the z test and the test, since our sample size is greater than 30 and this makes our values normally distributed. "
   ]
  },
  {
   "cell_type": "code",
   "execution_count": 8,
   "metadata": {},
   "outputs": [
    {
     "name": "stdout",
     "output_type": "stream",
     "text": [
      "sample t statistic: -2.119, p-value: 0.063\n",
      "sample z statistic: -2.119, p-value: 0.034\n"
     ]
    }
   ],
   "source": [
    "#Run same t-test and z-test but for sample with 10 values\n",
    "sample_temps = np.random.choice(temps, size=10)\n",
    "\n",
    "t_stat, t_p = ttest_1samp(sample_temps, theor_mean)\n",
    "print(\"sample t statistic: %.3f, p-value: %.3f\" % (t_stat, t_p))\n",
    "z_stat, z_p = ztest(sample_temps, value=theor_mean)\n",
    "print(\"sample z statistic: %.3f, p-value: %.3f\" % (z_stat, z_p))"
   ]
  },
  {
   "cell_type": "markdown",
   "metadata": {},
   "source": [
    "The t test is more appropriate with small samples, and we notice that it gives us a larger p-value."
   ]
  },
  {
   "cell_type": "code",
   "execution_count": 9,
   "metadata": {},
   "outputs": [
    {
     "name": "stdout",
     "output_type": "stream",
     "text": [
      "boostrap confidence interval: [ 96.7  99.5]\n",
      "frequentist confidence interval: (98.123196428181657, 98.375265110279898)\n"
     ]
    }
   ],
   "source": [
    "#Generate both boostrap and frequentist confidence intervals for temperature\n",
    "bs_temps = np.random.choice(temps, size=1000)\n",
    "bs_conf_int = np.percentile(bs_temps, [2.5, 97.5])\n",
    "print(\"boostrap confidence interval:\", bs_conf_int)\n",
    "freq_conf_int = norm.interval(0.95, loc=np.mean(temps), scale=sem(temps))\n",
    "print(\"frequentist confidence interval:\", freq_conf_int)"
   ]
  },
  {
   "cell_type": "markdown",
   "metadata": {},
   "source": [
    "We can say that temperatures greater than 98.4 and lower than 98.1 should be said to be abnormal. We take the less extreme of the temperatures from both confidence intervals, since it would be worse to miss out on an abnormal temperature than it would be to investigate when it is actually normal. It is interesting that this doesn't contain what is assumed to be the average human body temperatur of 98.6."
   ]
  },
  {
   "cell_type": "code",
   "execution_count": 10,
   "metadata": {},
   "outputs": [
    {
     "data": {
      "image/png": "[encoded data removed]",
      "text/plain": [
       "<matplotlib.figure.Figure at 0x7feb8cd36470>"
      ]
     },
     "metadata": {},
     "output_type": "display_data"
    }
   ],
   "source": [
    "#Create a swarmplot for temperature split by gender\n",
    "_ = sns.swarmplot(x='gender', y='temperature', data=df)\n",
    "plt.show()"
   ]
  },
  {
   "cell_type": "markdown",
   "metadata": {},
   "source": [
    "Our swarmplot suggests that mean female temperature might be higher than mean male temperature, so we can run some quantitative test to see whether this is true and if this difference is (statistically) significant. "
   ]
  },
  {
   "cell_type": "code",
   "execution_count": 11,
   "metadata": {},
   "outputs": [
    {
     "name": "stdout",
     "output_type": "stream",
     "text": [
      "p-value: 0.006\n"
     ]
    }
   ],
   "source": [
    "#Boostrap hypothesis test for equality of means\n",
    "male_temps = df[df['gender'] == 'M']['temperature']\n",
    "female_temps = df[df['gender'] == 'F']['temperature']\n",
    "emp_diff_means = np.mean(male_temps) - np.mean(female_temps)\n",
    "\n",
    "#Create groups with equal means\n",
    "male_shifted = male_temps - np.mean(male_temps) + np.mean(temps)\n",
    "female_shifted = female_temps - np.mean(female_temps) + np.mean(temps)\n",
    "\n",
    "#Define boostrap function\n",
    "def draw_bs_reps(x, func, size=1):\n",
    "    bs_replicate = np.empty(size)\n",
    "    \n",
    "    for i in range(size):\n",
    "        bs_sample = np.random.choice(x, size=len(x))\n",
    "        bs_replicate[i] = func(bs_sample)\n",
    "        \n",
    "    return bs_replicate\n",
    "\n",
    "#Generate boostramp samples and take their difference of means\n",
    "male_means = draw_bs_reps(male_shifted, np.mean, size=1000)\n",
    "female_means = draw_bs_reps(female_shifted, np.mean, size=1000)\n",
    "diff_means = male_means - female_means\n",
    "\n",
    "#Calculate p-value for difference of means\n",
    "p = np.sum(diff_means <= emp_diff_means) / len(diff_means)\n",
    "print(\"p-value: %.3f\" % p)"
   ]
  },
  {
   "cell_type": "markdown",
   "metadata": {},
   "source": [
    "Using a bootstrap hypothesis test, we get a low p-value, which suggests that we can reject the null hypothesis that the two group means are equal. The difference we see in our samples seems to reflect an actual difference between mean temperatures for men and women. "
   ]
  },
  {
   "cell_type": "code",
   "execution_count": 105,
   "metadata": {},
   "outputs": [
    {
     "name": "stdout",
     "output_type": "stream",
     "text": [
      "t statistic: -2.285, p-value: 0.024\n"
     ]
    }
   ],
   "source": [
    "#Run a T-test on the mean temperatures of men and women\n",
    "stat, p = ttest_ind(male_temps, female_temps)\n",
    "print(\"t statistic: %.3f, p-value: %.3f\" % (stat, p))"
   ]
  },
  {
   "cell_type": "markdown",
   "metadata": {},
   "source": [
    "Running a t-test on the means of two samples also seems to suggest an actual difference in mean temperatures because of our low p-value."
   ]
  }
 ],
 "metadata": {
  "kernelspec": {
   "display_name": "Python 3",
   "language": "python",
   "name": "python3"
  },
  "language_info": {
   "codemirror_mode": {
    "name": "ipython",
    "version": 3
   },
   "file_extension": ".py",
   "mimetype": "text/x-python",
   "name": "python",
   "nbconvert_exporter": "python",
   "pygments_lexer": "ipython3",
   "version": "3.6.3"
  }
 },
 "nbformat": 4,
 "nbformat_minor": 1
}
