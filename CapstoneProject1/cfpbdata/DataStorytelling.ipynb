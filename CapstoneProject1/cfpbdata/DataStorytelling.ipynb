{
 "cells": [
  {
   "cell_type": "markdown",
   "metadata": {},
   "source": [
    "# Data Storytelling"
   ]
  },
  {
   "cell_type": "markdown",
   "metadata": {
    "collapsed": true
   },
   "source": [
    "A variable dictionary can be found at https://s3.amazonaws.com/files.consumerfinance.gov/f/documents/cfpb_nfwbs-puf-codebook.pdf"
   ]
  },
  {
   "cell_type": "code",
   "execution_count": 51,
   "metadata": {},
   "outputs": [],
   "source": [
    "import pandas as pd\n",
    "import numpy as np\n",
    "import matplotlib.pyplot as plt \n",
    "from scipy.stats import ttest_ind\n",
    "from scipy.stats import chi2_contingency\n",
    "from sklearn.ensemble import RandomForestClassifier"
   ]
  },
  {
   "cell_type": "markdown",
   "metadata": {},
   "source": [
    "The output variable I am interested in is one's ability to handle an unexpected financial expense. Originally a 5-point ordinal variable, I encoded it as a Boolean variable 'target' that is True if the response was 4 or 5, indicating high confidence in one's ability to handle unexpected expenses. "
   ]
  },
  {
   "cell_type": "code",
   "execution_count": 3,
   "metadata": {
    "collapsed": true
   },
   "outputs": [],
   "source": [
    "#Create dataframe df containing data and 'target' column \n",
    "df = pd.read_csv('NFWBS_PUF_2016_data.csv')\n",
    "#True corresponds to confidence in ability to handle an unexpected financial expense\n",
    "df['target'] = df['FWB1_1'] > 3"
   ]
  },
  {
   "cell_type": "markdown",
   "metadata": {},
   "source": [
    "Because there were so many features in this data set (217, to be exact), I decided to use a random forest to act as an initial screen for what variables I would be exploring. I then selected what variables would be interesting to look at regarding their relationship to dealing with unexpected payments and costs."
   ]
  },
  {
   "cell_type": "code",
   "execution_count": 4,
   "metadata": {},
   "outputs": [
    {
     "data": {
      "text/plain": [
       "Index(['ABSORBSHOCK', 'ENDSMEET', 'SAVINGSRANGES', 'MANAGE1_3', 'SAVEHABIT',\n",
       "       'GOALCONF', 'ACT1_2', 'FS1_7', 'FS1_2', 'FS1_1', 'CONNECT', 'KHscore',\n",
       "       'LIFEEXPECT', 'HOUSERANGES', 'FS1_4'],\n",
       "      dtype='object')"
      ]
     },
     "execution_count": 4,
     "metadata": {},
     "output_type": "execute_result"
    }
   ],
   "source": [
    "#Remove columns containing financial well being scores and other irrelevant columns\n",
    "fwb_cols = [col for col in df if col.startswith('FWB')]\n",
    "swb_cols = [col for col in df if col.startswith('SWB')]\n",
    "dfx = df.drop(fwb_cols + swb_cols + ['PUF_ID', 'finalwt', 'FSscore', 'target'], axis=1)\n",
    "\n",
    "#Use a random forest to identify possible top features\n",
    "X = dfx.values\n",
    "y = df['FWB1_1'].values\n",
    "\n",
    "rfc = RandomForestClassifier()\n",
    "rfc.fit(X, y)\n",
    "idx = np.argsort(rfc.feature_importances_)[::-1]\n",
    "dfx.columns[idx][:15]"
   ]
  },
  {
   "cell_type": "markdown",
   "metadata": {},
   "source": [
    "We can see from the output above that some of the variables heavily associated with our target variable are the ability to raise $2,000 in 30 days, the difficulty of covering monthly expenses, the frequency of paying off one's monthly credit card balance, and following through on one's financial intentions."
   ]
  },
  {
   "cell_type": "code",
   "execution_count": 56,
   "metadata": {},
   "outputs": [
    {
     "data": {
      "image/png": "[encoded data removed]",
      "text/plain": [
       "<matplotlib.figure.Figure at 0x7fccde7c9cc0>"
      ]
     },
     "metadata": {},
     "output_type": "display_data"
    }
   ],
   "source": [
    "#Remove rows where response was 8 (corresponding to 'I don't know') or -1 (no response)\n",
    "dfabsorb = df[(df['ABSORBSHOCK'] != 8) & (df['ABSORBSHOCK'] != -1)]\n",
    "\n",
    "#Create table containing relevant values\n",
    "absorb_tab = pd.crosstab(dfabsorb['ABSORBSHOCK'], dfabsorb['target'])\n",
    "\n",
    "#Create x and y values to graph\n",
    "x_vals = np.arange(4) + 1\n",
    "absorb_vals = np.empty(4)\n",
    "for i in range(4):\n",
    "    absorb_vals[i] = absorb_tab.loc[i+1, True] / np.sum(absorb_tab.iloc[i, 0:2])\n",
    "\n",
    "#Create bar graph    \n",
    "plt.bar(x_vals, absorb_vals)\n",
    "plt.title('Raising Money and Unexpected Expenses')\n",
    "plt.xlabel('Ability to Raise $2k in 30 Days')\n",
    "plt.xticks(x_vals)\n",
    "plt.show()"
   ]
  },
  {
   "cell_type": "markdown",
   "metadata": {},
   "source": [
    "We can see that certainty in being able to raise $2,000 in 30 days causes a large spike of confidence in the ability to handle an unexpected expense, while certainly not being able to do so up to even probably being able to do so seem to inspire about equal levels of confidence."
   ]
  },
  {
   "cell_type": "code",
   "execution_count": 59,
   "metadata": {},
   "outputs": [
    {
     "data": {
      "image/png": "[encoded data removed]",
      "text/plain": [
       "<matplotlib.figure.Figure at 0x7fccde722978>"
      ]
     },
     "metadata": {},
     "output_type": "display_data"
    }
   ],
   "source": [
    "#Remove rows where response was -1 (no response)\n",
    "dfends = df[df['ENDSMEET'] != -1]\n",
    "\n",
    "#Create table with relevant values\n",
    "endsmeet_tab = pd.crosstab(dfends['ENDSMEET'], dfends['target'])\n",
    "\n",
    "#Create x and y values to graph\n",
    "x_vals = np.arange(3) + 1\n",
    "endsmeet_vals = np.empty(3)\n",
    "for i in range(3):\n",
    "    endsmeet_vals[i] = endsmeet_tab.loc[i+1, True] / np.sum(endsmeet_tab.iloc[i, 0:2])\n",
    "\n",
    "#Create bar graph\n",
    "plt.bar(x_vals, endsmeet_vals)\n",
    "plt.title('Meeting Monthly Expenses and Unexpected Expenses')\n",
    "plt.xlabel('Difficulty of Meeting Monthly Expenses')\n",
    "plt.xticks(x_vals)\n",
    "plt.show()"
   ]
  },
  {
   "cell_type": "markdown",
   "metadata": {},
   "source": [
    "As expected, finding it easy to pay off monthly expenses is a huge benefit to dealing with unexpected expenses."
   ]
  },
  {
   "cell_type": "code",
   "execution_count": 60,
   "metadata": {},
   "outputs": [
    {
     "data": {
      "image/png": "[encoded data removed]",
      "text/plain": [
       "<matplotlib.figure.Figure at 0x7fccde5989e8>"
      ]
     },
     "metadata": {},
     "output_type": "display_data"
    }
   ],
   "source": [
    "#Remove rows with no response\n",
    "dfmanage = df[df['MANAGE1_3'] != -1]\n",
    "\n",
    "#Create table with relevant values\n",
    "manage_tab = pd.crosstab(dfmanage['MANAGE1_3'], dfmanage['target'])\n",
    "\n",
    "#Create x and y values to graph\n",
    "x_vals = np.arange(5) + 1\n",
    "manage_vals = np.empty(5)\n",
    "for i in range(5):\n",
    "    manage_vals[i] = manage_tab.loc[i+1, True] / np.sum(manage_tab.iloc[i, 0:2])\n",
    "\n",
    "#Create bar graph\n",
    "plt.bar(x_vals, manage_vals)\n",
    "plt.title('Credit Card Balance and Unexpected Expenses')\n",
    "plt.xlabel('Frequency of Paying Off Monthly Credit Card Balance')\n",
    "plt.xticks(x_vals)\n",
    "plt.show()"
   ]
  },
  {
   "cell_type": "markdown",
   "metadata": {},
   "source": [
    "We can see a more gradual effect in paying off one's credit card balance in full every month on one's confidence in their ability to handle unexpected financial expenses."
   ]
  },
  {
   "cell_type": "code",
   "execution_count": 61,
   "metadata": {},
   "outputs": [
    {
     "data": {
      "image/png": "[encoded data removed]",
      "text/plain": [
       "<matplotlib.figure.Figure at 0x7fccde5133c8>"
      ]
     },
     "metadata": {},
     "output_type": "display_data"
    }
   ],
   "source": [
    "#Remove rows with no response\n",
    "dfintentions = df[df['FS1_1'] != -1]\n",
    "intentions_tab = pd.crosstab(dfintentions['FS1_1'], dfintentions['target'])\n",
    "\n",
    "#Create x and y values to graph\n",
    "x_vals = np.arange(5) + 1\n",
    "intentions_vals = np.empty(5)\n",
    "for i in range(5):\n",
    "    intentions_vals[i] = intentions_tab.loc[i+1, True] / np.sum(intentions_tab.iloc[i, 0:2])\n",
    "\n",
    "#Create bar graph\n",
    "plt.bar(x_vals, intentions_vals)\n",
    "plt.title('Following Through and Unexpected Expenses')\n",
    "plt.xlabel('Ability to Follow Through on Financial Intentions')\n",
    "plt.xticks(x_vals)\n",
    "plt.show()"
   ]
  },
  {
   "cell_type": "markdown",
   "metadata": {},
   "source": [
    "People who say they follow through on their financial intentions very well or completely seem to have much more confidence in their ability to handle unexpected expenses than those who have none at all, very little, or only somewhat."
   ]
  }
 ],
 "metadata": {
  "kernelspec": {
   "display_name": "Python 3",
   "language": "python",
   "name": "python3"
  },
  "language_info": {
   "codemirror_mode": {
    "name": "ipython",
    "version": 3
   },
   "file_extension": ".py",
   "mimetype": "text/x-python",
   "name": "python",
   "nbconvert_exporter": "python",
   "pygments_lexer": "ipython3",
   "version": "3.6.3"
  }
 },
 "nbformat": 4,
 "nbformat_minor": 2
}
